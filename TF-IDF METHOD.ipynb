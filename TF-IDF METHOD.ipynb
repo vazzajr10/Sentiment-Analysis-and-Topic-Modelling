{
 "cells": [
  {
   "cell_type": "code",
   "execution_count": null,
   "id": "f38a923d-151b-47f4-9ff6-c7b2582fdabc",
   "metadata": {},
   "outputs": [],
   "source": [
    "from sklearn.feature_extraction.text import TfidfVectorizer \n",
    "vectorizer = TfidfVectorizer() \n",
    "tf_x_train = vectorizer.fit_transform(X_train) \n",
    "tf_x_test = vectorizer.transform(X_test) \n",
    "feature_names = vectorizer.get_feature_names_out() \n",
    "dense = tf_x_train.todense() \n",
    "denselist = dense.tolist() \n",
    "df = pd.DataFrame(denselist, columns=feature_names) \n",
    "print(df) \n"
   ]
  }
 ],
 "metadata": {
  "kernelspec": {
   "display_name": "Python [conda env:base] *",
   "language": "python",
   "name": "conda-base-py"
  },
  "language_info": {
   "codemirror_mode": {
    "name": "ipython",
    "version": 3
   },
   "file_extension": ".py",
   "mimetype": "text/x-python",
   "name": "python",
   "nbconvert_exporter": "python",
   "pygments_lexer": "ipython3",
   "version": "3.13.5"
  }
 },
 "nbformat": 4,
 "nbformat_minor": 5
}
